{
 "cells": [
  {
   "cell_type": "markdown",
   "metadata": {},
   "source": [
    "# AMP\n",
    "The [AMP Broker Hub](https://distributor.amp.com.au/policies) is a single page HTML.\n",
    "1. Policy heading and text is inside divs of class amp-accordion. \n",
    "2. Spans with class ht-heading_3 are rewritten as H3. \n",
    "3. The only link to opther policy data is a PDF called the Security Property Location Guide, which is a \n",
    "a table of postcode.\n",
    "\n",
    "The policy is wrtten to policy/AML/Broker_Hub/Home_loan_polices.html"
   ]
  },
  {
   "cell_type": "code",
   "execution_count": 1,
   "metadata": {},
   "outputs": [],
   "source": [
    "import requests\n",
    "from bs4 import BeautifulSoup\n",
    "import shutil\n",
    "import os\n",
    "\n",
    "directory_path=r\"./policy/AMP/Broker_Hub\"\n",
    "output_html = f\"{directory_path}/policies.html\"\n",
    "\n",
    "if os.path.exists(directory_path):\n",
    "    shutil.rmtree(directory_path)  \n",
    "\n",
    "os.makedirs(directory_path) "
   ]
  },
  {
   "cell_type": "code",
   "execution_count": 2,
   "metadata": {},
   "outputs": [],
   "source": [
    "def create_empty_html_document():\n",
    "    # Create a new BeautifulSoup object with a basic HTML structure\n",
    "    soup = BeautifulSoup('', 'html.parser')\n",
    "    \n",
    "    # Create the html tag\n",
    "    html_tag = soup.new_tag('html')\n",
    "    soup.append(html_tag)\n",
    "    \n",
    "    # Create the head tag\n",
    "    head_tag = soup.new_tag('head')\n",
    "    html_tag.append(head_tag)\n",
    "    \n",
    "    # Add basic elements to the head\n",
    "    # title_tag = soup.new_tag('title')\n",
    "    # title_tag.string = 'Document Title'\n",
    "    # head_tag.append(title_tag)\n",
    "    \n",
    "    # Add meta charset tag\n",
    "    meta_tag = soup.new_tag('meta')\n",
    "    meta_tag['charset'] = 'UTF-8'\n",
    "    head_tag.append(meta_tag)\n",
    "    \n",
    "    # Create the body tag\n",
    "    body_tag = soup.new_tag('body')\n",
    "    html_tag.append(body_tag)\n",
    "    \n",
    "    # Return the formatted HTML string\n",
    "    return soup"
   ]
  },
  {
   "cell_type": "code",
   "execution_count": 3,
   "metadata": {},
   "outputs": [],
   "source": [
    "\n",
    "def extract_accordions(url):\n",
    "    headers = {'User-Agent': 'Mozilla/5.0 (Windows NT 10.0; Win64; x64) AppleWebKit/537.36 (KHTML, like Gecko) Chrome/91.0.4472.124 Safari/537.36'}\n",
    "    \n",
    "    try:\n",
    "        response = requests.get(url, headers=headers)\n",
    "        response.raise_for_status()  # Raise an exception for bad status codes\n",
    "        soup = BeautifulSoup(response.text, 'html.parser')\n",
    "    \n",
    "        # Find all span elements with class \"ht-heading_3\" \n",
    "        ht_heading_spans = soup.find_all('span', class_='ht-heading_3')\n",
    "        \n",
    "        for span in ht_heading_spans:\n",
    "            new_h3 = soup.new_tag('h3')\n",
    "            new_h3.string = span.get_text()\n",
    "            \n",
    "            # Replace the parent paragraph with the new h3\n",
    "            parent = span.find_parent('p')\n",
    "            if parent:\n",
    "                parent.replace_with(new_h3)\n",
    "            else:\n",
    "                # If there's no parent p tag, just replace the span itself\n",
    "                span.replace_with(new_h3)\n",
    "\n",
    "        output_soup = create_empty_html_document()\n",
    "        body = output_soup.body\n",
    "        accordions = soup.select('div.amp-accordion')\n",
    "        for accordion in accordions:\n",
    "\n",
    "            body.append(accordion)\n",
    "\n",
    "        return str(output_soup)\n",
    "            \n",
    "    except requests.exceptions.RequestException as e:\n",
    "        print(f\"Error fetching the URL: {e}\")\n",
    "        return []\n",
    "\n",
    "\n",
    "# Extract HTML inside div.ammp-accordions\n",
    "html_text = extract_accordions(\"https://distributor.amp.com.au/policies\")\n",
    "\n",
    "with open(output_html, 'w', encoding='utf-8') as f:\n",
    "    f.write(html_text)\n"
   ]
  },
  {
   "cell_type": "code",
   "execution_count": null,
   "metadata": {},
   "outputs": [],
   "source": [
    "from IPython.display import HTML, display\n",
    "HTML(html_text)"
   ]
  },
  {
   "cell_type": "code",
   "execution_count": null,
   "metadata": {},
   "outputs": [],
   "source": []
  }
 ],
 "metadata": {
  "kernelspec": {
   "display_name": ".venv (3.11.2)",
   "language": "python",
   "name": "python3"
  },
  "language_info": {
   "codemirror_mode": {
    "name": "ipython",
    "version": 3
   },
   "file_extension": ".py",
   "mimetype": "text/x-python",
   "name": "python",
   "nbconvert_exporter": "python",
   "pygments_lexer": "ipython3",
   "version": "3.11.2"
  }
 },
 "nbformat": 4,
 "nbformat_minor": 2
}
