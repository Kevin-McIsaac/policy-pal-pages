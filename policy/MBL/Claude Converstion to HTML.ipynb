{
 "cells": [
  {
   "cell_type": "markdown",
   "metadata": {},
   "source": [
    "# Convert MBL pdf to HTML\n",
    "The MBL policy is a complext set of tables sued to stucture the \n",
    "informatoin. This extensive use of tables did not convert well \n",
    "using standard tools such as mathpix or marker so we we use Claude sonnet \n",
    "to convert the "
   ]
  },
  {
   "cell_type": "code",
   "execution_count": 1,
   "metadata": {},
   "outputs": [
    {
     "data": {
      "text/plain": [
       "True"
      ]
     },
     "execution_count": 1,
     "metadata": {},
     "output_type": "execute_result"
    }
   ],
   "source": [
    "import os\n",
    "from io import BytesIO\n",
    "from pypdf import PdfReader, PdfWriter\n",
    "import base64\n",
    "from anthropic import Anthropic\n",
    "from loguru import logger\n",
    "from IPython.display import HTML\n",
    "from dotenv import load_dotenv\n",
    "from bs4 import BeautifulSoup\n",
    "\n",
    "load_dotenv()"
   ]
  },
  {
   "cell_type": "code",
   "execution_count": 2,
   "metadata": {},
   "outputs": [],
   "source": [
    "def pdf_to_html(pdf_base64_string: str) -> str:\n",
    "        \n",
    "    prompt = \"\"\"Convert the PDF to a valid HTML including the <html>, <head> and <body> tags. Do not summarize or change the text, \n",
    "                just convert the PDF to HTML keeping the formatting as close as \n",
    "                possible to the original PDF. Remove page headers, footers, and page numbers.\n",
    "                ensure there is a \"\"\"\n",
    "    messages = [\n",
    "        {\n",
    "            \"role\": 'user',\n",
    "            \"content\": [\n",
    "                {\"type\": \"document\", \"source\": {\"type\": \"base64\", \"media_type\": \"application/pdf\", \"data\": pdf_base64_string}},\n",
    "                {\"type\": \"text\", \"text\": prompt}\n",
    "            ]\n",
    "        }\n",
    "    ]\n",
    "\n",
    "    # While PDF support is in beta, you must pass in the correct beta header\n",
    "    client = Anthropic(default_headers={\"anthropic-beta\": \"pdfs-2024-09-25\"})\n",
    "    \n",
    "    # For now, only claude-3-5-sonnet-20241022 supports PDFs\n",
    "    result = client.messages.create(\n",
    "            model=\"claude-3-5-sonnet-20241022\",\n",
    "            max_tokens=8192,\n",
    "            messages=messages\n",
    "        )\n",
    "\n",
    "    cost_cents = (result.usage.input_tokens * 3/1_000_000 + result.usage.output_tokens * 15/1_000_000) *100\n",
    "    logger.info(f\"cost ¢{cost_cents:.2f}, input_tokens={result.usage.input_tokens}, output_tokens={result.usage.output_tokens}\")\n",
    "\n",
    "    return result.content[0].text\n",
    "\n",
    "\n",
    "def convert_page(page:str, n:int, cache_dir:str) -> str:\n",
    "    \n",
    "    file_name = f\"{cache_dir}/page_{n}.html\"\n",
    "    if os.path.exists(file_name):\n",
    "        logger.info(f\"Using cached result in {file_name}\")\n",
    "        with open(file_name, \"r\") as f:\n",
    "            return f.read()\n",
    "        \n",
    "    logger.info(f\"Converting page {n}\")\n",
    "    # Create a new PDF writer with a single page\n",
    "    writer = PdfWriter()\n",
    "    writer.add_page(page)\n",
    "\n",
    "    # Write to a BytesIO object\n",
    "    pdf_bytes = BytesIO()\n",
    "    writer.write(pdf_bytes)\n",
    "\n",
    "    # PDF encoding as base64\n",
    "    base64_string = base64.standard_b64encode(pdf_bytes.getvalue()).decode(\"utf-8\")\n",
    "    result = pdf_to_html(base64_string)\n",
    "    \n",
    "    # Cache the result to an HTML file\n",
    "    with open(file_name, \"w\") as f:\n",
    "        logger.info(f\"Writing {file_name}\")\n",
    "        f.write(result)\n",
    "\n",
    "    return result\n",
    "\n",
    "\n",
    "# Read the PDF and write page 6 to memory\n",
    "def convert_pdf(pdf_path:str, skip_pages: list = []) -> str:\n",
    "    reader = PdfReader(pdf_path)\n",
    "    style= \"\"\"<style>\n",
    "        table {\n",
    "            border-collapse: collapse;\n",
    "            width: 100%;\n",
    "            margin-bottom: 20px;\n",
    "        }\n",
    "        th, td {\n",
    "            border: 1px solid black;\n",
    "            padding: 8px;\n",
    "            vertical-align: top;\n",
    "        }\n",
    "    </style>\"\"\"\n",
    "    doc_soup = BeautifulSoup(f\"<html><head>{style}</head><body></body></html>\", 'html.parser')\n",
    "    \n",
    "    base_name, _ = os.path.splitext(os.path.basename(pdf_path))\n",
    "    directory = os.path.dirname(pdf_path)\n",
    "    html_path = f\"{directory}/{base_name}.html\"\n",
    "    cache_dir = f\"{directory}/.html_cache\"\n",
    "    if not os.path.exists(cache_dir):\n",
    "        os.makedirs(cache_dir)\n",
    "\n",
    "    for i, page in enumerate(reader.pages):\n",
    "        html = convert_page(page, i, cache_dir)\n",
    "        if i in skip_pages:\n",
    "            logger.info(f\"Skipping page {i}\")\n",
    "        else:\n",
    "            if page_soup := BeautifulSoup(html, 'html.parser').body:\n",
    "                doc_soup.body.extend(page_soup.contents)\n",
    "            else:\n",
    "                logger.warning(f\"Page {i} has no body\")\n",
    "    \n",
    "    with open(html_path, \"w\") as f:\n",
    "        f.write(str(doc_soup))\n",
    "    \n",
    "    return str(doc_soup)\n"
   ]
  },
  {
   "cell_type": "code",
   "execution_count": 3,
   "metadata": {},
   "outputs": [
    {
     "name": "stderr",
     "output_type": "stream",
     "text": [
      "\u001b[32m2025-01-09 09:35:14.060\u001b[0m | \u001b[1mINFO    \u001b[0m | \u001b[36m__main__\u001b[0m:\u001b[36mconvert_page\u001b[0m:\u001b[36m37\u001b[0m - \u001b[1mUsing cached result in ./Manual/.html_cache/page_0.html\u001b[0m\n",
      "\u001b[32m2025-01-09 09:35:14.062\u001b[0m | \u001b[1mINFO    \u001b[0m | \u001b[36m__main__\u001b[0m:\u001b[36mconvert_pdf\u001b[0m:\u001b[36m89\u001b[0m - \u001b[1mSkipping page 0\u001b[0m\n",
      "\u001b[32m2025-01-09 09:35:14.063\u001b[0m | \u001b[1mINFO    \u001b[0m | \u001b[36m__main__\u001b[0m:\u001b[36mconvert_page\u001b[0m:\u001b[36m37\u001b[0m - \u001b[1mUsing cached result in ./Manual/.html_cache/page_1.html\u001b[0m\n",
      "\u001b[32m2025-01-09 09:35:14.064\u001b[0m | \u001b[1mINFO    \u001b[0m | \u001b[36m__main__\u001b[0m:\u001b[36mconvert_pdf\u001b[0m:\u001b[36m89\u001b[0m - \u001b[1mSkipping page 1\u001b[0m\n",
      "\u001b[32m2025-01-09 09:35:14.065\u001b[0m | \u001b[1mINFO    \u001b[0m | \u001b[36m__main__\u001b[0m:\u001b[36mconvert_page\u001b[0m:\u001b[36m37\u001b[0m - \u001b[1mUsing cached result in ./Manual/.html_cache/page_2.html\u001b[0m\n",
      "\u001b[32m2025-01-09 09:35:14.066\u001b[0m | \u001b[1mINFO    \u001b[0m | \u001b[36m__main__\u001b[0m:\u001b[36mconvert_pdf\u001b[0m:\u001b[36m89\u001b[0m - \u001b[1mSkipping page 2\u001b[0m\n",
      "\u001b[32m2025-01-09 09:35:14.067\u001b[0m | \u001b[1mINFO    \u001b[0m | \u001b[36m__main__\u001b[0m:\u001b[36mconvert_page\u001b[0m:\u001b[36m37\u001b[0m - \u001b[1mUsing cached result in ./Manual/.html_cache/page_3.html\u001b[0m\n",
      "\u001b[32m2025-01-09 09:35:14.069\u001b[0m | \u001b[1mINFO    \u001b[0m | \u001b[36m__main__\u001b[0m:\u001b[36mconvert_page\u001b[0m:\u001b[36m37\u001b[0m - \u001b[1mUsing cached result in ./Manual/.html_cache/page_4.html\u001b[0m\n",
      "\u001b[32m2025-01-09 09:35:14.073\u001b[0m | \u001b[1mINFO    \u001b[0m | \u001b[36m__main__\u001b[0m:\u001b[36mconvert_page\u001b[0m:\u001b[36m37\u001b[0m - \u001b[1mUsing cached result in ./Manual/.html_cache/page_5.html\u001b[0m\n",
      "\u001b[32m2025-01-09 09:35:14.077\u001b[0m | \u001b[1mINFO    \u001b[0m | \u001b[36m__main__\u001b[0m:\u001b[36mconvert_page\u001b[0m:\u001b[36m37\u001b[0m - \u001b[1mUsing cached result in ./Manual/.html_cache/page_6.html\u001b[0m\n",
      "\u001b[32m2025-01-09 09:35:14.083\u001b[0m | \u001b[1mINFO    \u001b[0m | \u001b[36m__main__\u001b[0m:\u001b[36mconvert_page\u001b[0m:\u001b[36m37\u001b[0m - \u001b[1mUsing cached result in ./Manual/.html_cache/page_7.html\u001b[0m\n",
      "\u001b[32m2025-01-09 09:35:14.088\u001b[0m | \u001b[1mINFO    \u001b[0m | \u001b[36m__main__\u001b[0m:\u001b[36mconvert_page\u001b[0m:\u001b[36m37\u001b[0m - \u001b[1mUsing cached result in ./Manual/.html_cache/page_8.html\u001b[0m\n"
     ]
    },
    {
     "name": "stderr",
     "output_type": "stream",
     "text": [
      "\u001b[32m2025-01-09 09:35:14.095\u001b[0m | \u001b[1mINFO    \u001b[0m | \u001b[36m__main__\u001b[0m:\u001b[36mconvert_page\u001b[0m:\u001b[36m37\u001b[0m - \u001b[1mUsing cached result in ./Manual/.html_cache/page_9.html\u001b[0m\n",
      "\u001b[32m2025-01-09 09:35:14.098\u001b[0m | \u001b[1mINFO    \u001b[0m | \u001b[36m__main__\u001b[0m:\u001b[36mconvert_page\u001b[0m:\u001b[36m37\u001b[0m - \u001b[1mUsing cached result in ./Manual/.html_cache/page_10.html\u001b[0m\n",
      "\u001b[32m2025-01-09 09:35:14.106\u001b[0m | \u001b[1mINFO    \u001b[0m | \u001b[36m__main__\u001b[0m:\u001b[36mconvert_page\u001b[0m:\u001b[36m37\u001b[0m - \u001b[1mUsing cached result in ./Manual/.html_cache/page_11.html\u001b[0m\n",
      "\u001b[32m2025-01-09 09:35:14.112\u001b[0m | \u001b[1mINFO    \u001b[0m | \u001b[36m__main__\u001b[0m:\u001b[36mconvert_page\u001b[0m:\u001b[36m37\u001b[0m - \u001b[1mUsing cached result in ./Manual/.html_cache/page_12.html\u001b[0m\n",
      "\u001b[32m2025-01-09 09:35:14.117\u001b[0m | \u001b[1mINFO    \u001b[0m | \u001b[36m__main__\u001b[0m:\u001b[36mconvert_page\u001b[0m:\u001b[36m37\u001b[0m - \u001b[1mUsing cached result in ./Manual/.html_cache/page_13.html\u001b[0m\n",
      "\u001b[32m2025-01-09 09:35:14.121\u001b[0m | \u001b[1mINFO    \u001b[0m | \u001b[36m__main__\u001b[0m:\u001b[36mconvert_page\u001b[0m:\u001b[36m37\u001b[0m - \u001b[1mUsing cached result in ./Manual/.html_cache/page_14.html\u001b[0m\n",
      "\u001b[32m2025-01-09 09:35:14.131\u001b[0m | \u001b[1mINFO    \u001b[0m | \u001b[36m__main__\u001b[0m:\u001b[36mconvert_page\u001b[0m:\u001b[36m37\u001b[0m - \u001b[1mUsing cached result in ./Manual/.html_cache/page_15.html\u001b[0m\n",
      "\u001b[32m2025-01-09 09:35:14.135\u001b[0m | \u001b[1mINFO    \u001b[0m | \u001b[36m__main__\u001b[0m:\u001b[36mconvert_page\u001b[0m:\u001b[36m37\u001b[0m - \u001b[1mUsing cached result in ./Manual/.html_cache/page_16.html\u001b[0m\n",
      "\u001b[32m2025-01-09 09:35:14.141\u001b[0m | \u001b[1mINFO    \u001b[0m | \u001b[36m__main__\u001b[0m:\u001b[36mconvert_page\u001b[0m:\u001b[36m37\u001b[0m - \u001b[1mUsing cached result in ./Manual/.html_cache/page_17.html\u001b[0m\n",
      "\u001b[32m2025-01-09 09:35:14.146\u001b[0m | \u001b[1mINFO    \u001b[0m | \u001b[36m__main__\u001b[0m:\u001b[36mconvert_page\u001b[0m:\u001b[36m37\u001b[0m - \u001b[1mUsing cached result in ./Manual/.html_cache/page_18.html\u001b[0m\n",
      "\u001b[32m2025-01-09 09:35:14.149\u001b[0m | \u001b[1mINFO    \u001b[0m | \u001b[36m__main__\u001b[0m:\u001b[36mconvert_page\u001b[0m:\u001b[36m37\u001b[0m - \u001b[1mUsing cached result in ./Manual/.html_cache/page_19.html\u001b[0m\n",
      "\u001b[32m2025-01-09 09:35:14.153\u001b[0m | \u001b[1mINFO    \u001b[0m | \u001b[36m__main__\u001b[0m:\u001b[36mconvert_page\u001b[0m:\u001b[36m37\u001b[0m - \u001b[1mUsing cached result in ./Manual/.html_cache/page_20.html\u001b[0m\n",
      "\u001b[32m2025-01-09 09:35:14.156\u001b[0m | \u001b[1mINFO    \u001b[0m | \u001b[36m__main__\u001b[0m:\u001b[36mconvert_page\u001b[0m:\u001b[36m37\u001b[0m - \u001b[1mUsing cached result in ./Manual/.html_cache/page_21.html\u001b[0m\n",
      "\u001b[32m2025-01-09 09:35:14.159\u001b[0m | \u001b[1mINFO    \u001b[0m | \u001b[36m__main__\u001b[0m:\u001b[36mconvert_page\u001b[0m:\u001b[36m37\u001b[0m - \u001b[1mUsing cached result in ./Manual/.html_cache/page_22.html\u001b[0m\n",
      "\u001b[32m2025-01-09 09:35:14.164\u001b[0m | \u001b[1mINFO    \u001b[0m | \u001b[36m__main__\u001b[0m:\u001b[36mconvert_page\u001b[0m:\u001b[36m37\u001b[0m - \u001b[1mUsing cached result in ./Manual/.html_cache/page_23.html\u001b[0m\n",
      "\u001b[32m2025-01-09 09:35:14.168\u001b[0m | \u001b[1mINFO    \u001b[0m | \u001b[36m__main__\u001b[0m:\u001b[36mconvert_page\u001b[0m:\u001b[36m37\u001b[0m - \u001b[1mUsing cached result in ./Manual/.html_cache/page_24.html\u001b[0m\n",
      "\u001b[32m2025-01-09 09:35:14.172\u001b[0m | \u001b[1mINFO    \u001b[0m | \u001b[36m__main__\u001b[0m:\u001b[36mconvert_page\u001b[0m:\u001b[36m37\u001b[0m - \u001b[1mUsing cached result in ./Manual/.html_cache/page_25.html\u001b[0m\n",
      "\u001b[32m2025-01-09 09:35:14.177\u001b[0m | \u001b[1mINFO    \u001b[0m | \u001b[36m__main__\u001b[0m:\u001b[36mconvert_page\u001b[0m:\u001b[36m37\u001b[0m - \u001b[1mUsing cached result in ./Manual/.html_cache/page_26.html\u001b[0m\n",
      "\u001b[32m2025-01-09 09:35:14.183\u001b[0m | \u001b[1mINFO    \u001b[0m | \u001b[36m__main__\u001b[0m:\u001b[36mconvert_page\u001b[0m:\u001b[36m37\u001b[0m - \u001b[1mUsing cached result in ./Manual/.html_cache/page_27.html\u001b[0m\n",
      "\u001b[32m2025-01-09 09:35:14.187\u001b[0m | \u001b[1mINFO    \u001b[0m | \u001b[36m__main__\u001b[0m:\u001b[36mconvert_page\u001b[0m:\u001b[36m37\u001b[0m - \u001b[1mUsing cached result in ./Manual/.html_cache/page_28.html\u001b[0m\n",
      "\u001b[32m2025-01-09 09:35:14.195\u001b[0m | \u001b[1mINFO    \u001b[0m | \u001b[36m__main__\u001b[0m:\u001b[36mconvert_page\u001b[0m:\u001b[36m37\u001b[0m - \u001b[1mUsing cached result in ./Manual/.html_cache/page_29.html\u001b[0m\n",
      "\u001b[32m2025-01-09 09:35:14.201\u001b[0m | \u001b[1mINFO    \u001b[0m | \u001b[36m__main__\u001b[0m:\u001b[36mconvert_page\u001b[0m:\u001b[36m37\u001b[0m - \u001b[1mUsing cached result in ./Manual/.html_cache/page_30.html\u001b[0m\n",
      "\u001b[32m2025-01-09 09:35:14.207\u001b[0m | \u001b[1mINFO    \u001b[0m | \u001b[36m__main__\u001b[0m:\u001b[36mconvert_page\u001b[0m:\u001b[36m37\u001b[0m - \u001b[1mUsing cached result in ./Manual/.html_cache/page_31.html\u001b[0m\n",
      "\u001b[32m2025-01-09 09:35:14.213\u001b[0m | \u001b[1mINFO    \u001b[0m | \u001b[36m__main__\u001b[0m:\u001b[36mconvert_page\u001b[0m:\u001b[36m37\u001b[0m - \u001b[1mUsing cached result in ./Manual/.html_cache/page_32.html\u001b[0m\n",
      "\u001b[32m2025-01-09 09:35:14.221\u001b[0m | \u001b[1mINFO    \u001b[0m | \u001b[36m__main__\u001b[0m:\u001b[36mconvert_page\u001b[0m:\u001b[36m37\u001b[0m - \u001b[1mUsing cached result in ./Manual/.html_cache/page_33.html\u001b[0m\n",
      "\u001b[32m2025-01-09 09:35:14.228\u001b[0m | \u001b[1mINFO    \u001b[0m | \u001b[36m__main__\u001b[0m:\u001b[36mconvert_page\u001b[0m:\u001b[36m37\u001b[0m - \u001b[1mUsing cached result in ./Manual/.html_cache/page_34.html\u001b[0m\n",
      "\u001b[32m2025-01-09 09:35:14.232\u001b[0m | \u001b[1mINFO    \u001b[0m | \u001b[36m__main__\u001b[0m:\u001b[36mconvert_page\u001b[0m:\u001b[36m37\u001b[0m - \u001b[1mUsing cached result in ./Manual/.html_cache/page_35.html\u001b[0m\n",
      "\u001b[32m2025-01-09 09:35:14.235\u001b[0m | \u001b[1mINFO    \u001b[0m | \u001b[36m__main__\u001b[0m:\u001b[36mconvert_page\u001b[0m:\u001b[36m37\u001b[0m - \u001b[1mUsing cached result in ./Manual/.html_cache/page_36.html\u001b[0m\n",
      "\u001b[32m2025-01-09 09:35:14.241\u001b[0m | \u001b[1mINFO    \u001b[0m | \u001b[36m__main__\u001b[0m:\u001b[36mconvert_page\u001b[0m:\u001b[36m37\u001b[0m - \u001b[1mUsing cached result in ./Manual/.html_cache/page_37.html\u001b[0m\n",
      "\u001b[32m2025-01-09 09:35:14.247\u001b[0m | \u001b[1mINFO    \u001b[0m | \u001b[36m__main__\u001b[0m:\u001b[36mconvert_page\u001b[0m:\u001b[36m37\u001b[0m - \u001b[1mUsing cached result in ./Manual/.html_cache/page_38.html\u001b[0m\n"
     ]
    }
   ],
   "source": [
    "policy_file = \"./Manual/macquarie_residential_home_loans_credit_guidelines.pdf\" \n",
    "html = convert_pdf(policy_file, skip_pages=[0, 1,2])\n",
    "# HTML(html)"
   ]
  },
  {
   "cell_type": "code",
   "execution_count": null,
   "metadata": {},
   "outputs": [],
   "source": []
  }
 ],
 "metadata": {
  "kernelspec": {
   "display_name": ".venv",
   "language": "python",
   "name": "python3"
  },
  "language_info": {
   "codemirror_mode": {
    "name": "ipython",
    "version": 3
   },
   "file_extension": ".py",
   "mimetype": "text/x-python",
   "name": "python",
   "nbconvert_exporter": "python",
   "pygments_lexer": "ipython3",
   "version": "3.11.2"
  }
 },
 "nbformat": 4,
 "nbformat_minor": 2
}
