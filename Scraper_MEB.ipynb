{
 "cells": [
  {
   "cell_type": "markdown",
   "metadata": {},
   "source": [
    "# ME Bank Policy Portal Sraper\n",
    "Suse a simple login.\n",
    "\n",
    "FOr now loggign in with the browser, then cut and past the auth cookies into this notebook.\n",
    "\n",
    "Scraper Code\n",
    "1. Only searchs for links in dic.container\n",
    "2. does niot use HTML extention\n",
    "   "
   ]
  },
  {
   "cell_type": "code",
   "execution_count": 1,
   "metadata": {},
   "outputs": [
    {
     "name": "stderr",
     "output_type": "stream",
     "text": [
      "\u001b[32m2025-03-13 15:00:12.902\u001b[0m | \u001b[1mINFO    \u001b[0m | \u001b[36m__main__\u001b[0m:\u001b[36mextract_side_navigation_links\u001b[0m:\u001b[36m133\u001b[0m - \u001b[1mDownloading https://mebroker.powerappsportals.com/policy-home1/ to policy/MEB/ME_Broker/policy-home1.html\u001b[0m\n",
      "\u001b[32m2025-03-13 15:00:13.991\u001b[0m | \u001b[1mINFO    \u001b[0m | \u001b[36m__main__\u001b[0m:\u001b[36mextract_side_navigation_links\u001b[0m:\u001b[36m133\u001b[0m - \u001b[1mDownloading https://mebroker.powerappsportals.com/policy-home1/ to policy/MEB/ME_Broker/policy-home1/home-lending-policy.html\u001b[0m\n",
      "\u001b[32m2025-03-13 15:00:14.940\u001b[0m | \u001b[1mINFO    \u001b[0m | \u001b[36m__main__\u001b[0m:\u001b[36mextract_side_navigation_links\u001b[0m:\u001b[36m133\u001b[0m - \u001b[1mDownloading https://mebroker.powerappsportals.com/policy-home1/ to policy/MEB/ME_Broker/policy-home1/home-lending-policy/about-this-policy.html\u001b[0m\n"
     ]
    },
    {
     "name": "stdout",
     "output_type": "stream",
     "text": [
      "https://mebroker.powerappsportals.com/policy-home1/home-lending-policy/about-this-policy/ no 'page-copy'\n"
     ]
    },
    {
     "name": "stderr",
     "output_type": "stream",
     "text": [
      "\u001b[32m2025-03-13 15:00:15.957\u001b[0m | \u001b[1mINFO    \u001b[0m | \u001b[36m__main__\u001b[0m:\u001b[36mextract_side_navigation_links\u001b[0m:\u001b[36m133\u001b[0m - \u001b[1mDownloading https://mebroker.powerappsportals.com/policy-home1/ to policy/MEB/ME_Broker/policy-home1/home-lending-policy/about-this-policy/definition.html\u001b[0m\n",
      "\u001b[32m2025-03-13 15:00:16.932\u001b[0m | \u001b[1mINFO    \u001b[0m | \u001b[36m__main__\u001b[0m:\u001b[36mextract_side_navigation_links\u001b[0m:\u001b[36m133\u001b[0m - \u001b[1mDownloading https://mebroker.powerappsportals.com/policy-home1/ to policy/MEB/ME_Broker/policy-home1/home-lending-policy/about-this-policy/scope.html\u001b[0m\n",
      "\u001b[32m2025-03-13 15:00:17.884\u001b[0m | \u001b[1mINFO    \u001b[0m | \u001b[36m__main__\u001b[0m:\u001b[36mextract_side_navigation_links\u001b[0m:\u001b[36m133\u001b[0m - \u001b[1mDownloading https://mebroker.powerappsportals.com/policy-home1/ to policy/MEB/ME_Broker/policy-home1/home-lending-policy/about-this-policy/purpose.html\u001b[0m\n",
      "\u001b[32m2025-03-13 15:00:18.838\u001b[0m | \u001b[1mINFO    \u001b[0m | \u001b[36m__main__\u001b[0m:\u001b[36mextract_side_navigation_links\u001b[0m:\u001b[36m133\u001b[0m - \u001b[1mDownloading https://mebroker.powerappsportals.com/policy-home1/ to policy/MEB/ME_Broker/policy-home1/home-lending-policy/about-this-policy/related-documents.html\u001b[0m\n",
      "\u001b[32m2025-03-13 15:00:20.168\u001b[0m | \u001b[1mINFO    \u001b[0m | \u001b[36m__main__\u001b[0m:\u001b[36mextract_side_navigation_links\u001b[0m:\u001b[36m133\u001b[0m - \u001b[1mDownloading https://mebroker.powerappsportals.com/policy-home1/ to policy/MEB/ME_Broker/policy-home1/home-lending-policy/about-this-policy/using-this-policy.html\u001b[0m\n",
      "\u001b[32m2025-03-13 15:00:21.145\u001b[0m | \u001b[1mINFO    \u001b[0m | \u001b[36m__main__\u001b[0m:\u001b[36mextract_side_navigation_links\u001b[0m:\u001b[36m133\u001b[0m - \u001b[1mDownloading https://mebroker.powerappsportals.com/policy-home1/ to policy/MEB/ME_Broker/policy-home1/home-lending-policy/about-this-policy/our-obligations.html\u001b[0m\n",
      "\u001b[32m2025-03-13 15:00:22.439\u001b[0m | \u001b[1mINFO    \u001b[0m | \u001b[36m__main__\u001b[0m:\u001b[36mextract_side_navigation_links\u001b[0m:\u001b[36m133\u001b[0m - \u001b[1mDownloading https://mebroker.powerappsportals.com/policy-home1/ to policy/MEB/ME_Broker/policy-home1/home-lending-policy/about-this-policy/1.7-non-english-documents.html\u001b[0m\n",
      "\u001b[32m2025-03-13 15:00:23.477\u001b[0m | \u001b[1mINFO    \u001b[0m | \u001b[36m__main__\u001b[0m:\u001b[36mextract_side_navigation_links\u001b[0m:\u001b[36m133\u001b[0m - \u001b[1mDownloading https://mebroker.powerappsportals.com/policy-home1/ to policy/MEB/ME_Broker/policy-home1/home-lending-policy/who-can-borrow-from-us.html\u001b[0m\n"
     ]
    },
    {
     "name": "stdout",
     "output_type": "stream",
     "text": [
      "https://mebroker.powerappsportals.com/policy-home1/home-lending-policy/who-can-borrow-from-us/ no 'page-copy'\n"
     ]
    },
    {
     "name": "stderr",
     "output_type": "stream",
     "text": [
      "\u001b[32m2025-03-13 15:00:24.741\u001b[0m | \u001b[1mINFO    \u001b[0m | \u001b[36m__main__\u001b[0m:\u001b[36mextract_side_navigation_links\u001b[0m:\u001b[36m133\u001b[0m - \u001b[1mDownloading https://mebroker.powerappsportals.com/policy-home1/ to policy/MEB/ME_Broker/policy-home1/home-lending-policy/who-can-borrow-from-us/who-we-lend-to.html\u001b[0m\n",
      "\u001b[32m2025-03-13 15:00:25.717\u001b[0m | \u001b[1mINFO    \u001b[0m | \u001b[36m__main__\u001b[0m:\u001b[36mextract_side_navigation_links\u001b[0m:\u001b[36m133\u001b[0m - \u001b[1mDownloading https://mebroker.powerappsportals.com/policy-home1/ to policy/MEB/ME_Broker/policy-home1/home-lending-policy/who-can-borrow-from-us/who-we-dont-lend-to.html\u001b[0m\n",
      "\u001b[32m2025-03-13 15:00:26.762\u001b[0m | \u001b[1mINFO    \u001b[0m | \u001b[36m__main__\u001b[0m:\u001b[36mextract_side_navigation_links\u001b[0m:\u001b[36m133\u001b[0m - \u001b[1mDownloading https://mebroker.powerappsportals.com/policy-home1/ to policy/MEB/ME_Broker/policy-home1/home-lending-policy/who-can-borrow-from-us/joint-borrowers.html\u001b[0m\n",
      "\u001b[32m2025-03-13 15:00:27.787\u001b[0m | \u001b[1mINFO    \u001b[0m | \u001b[36m__main__\u001b[0m:\u001b[36mextract_side_navigation_links\u001b[0m:\u001b[36m133\u001b[0m - \u001b[1mDownloading https://mebroker.powerappsportals.com/policy-home1/ to policy/MEB/ME_Broker/policy-home1/home-lending-policy/who-can-borrow-from-us/determining-a-benefit.html\u001b[0m\n",
      "\u001b[32m2025-03-13 15:00:28.752\u001b[0m | \u001b[1mINFO    \u001b[0m | \u001b[36m__main__\u001b[0m:\u001b[36mextract_side_navigation_links\u001b[0m:\u001b[36m133\u001b[0m - \u001b[1mDownloading https://mebroker.powerappsportals.com/policy-home1/ to policy/MEB/ME_Broker/policy-home1/home-lending-policy/who-can-guarantee-a-loan.html\u001b[0m\n"
     ]
    },
    {
     "name": "stdout",
     "output_type": "stream",
     "text": [
      "https://mebroker.powerappsportals.com/policy-home1/home-lending-policy/who-can-guarantee-a-loan/ no 'page-copy'\n"
     ]
    },
    {
     "name": "stderr",
     "output_type": "stream",
     "text": [
      "\u001b[32m2025-03-13 15:00:29.798\u001b[0m | \u001b[1mINFO    \u001b[0m | \u001b[36m__main__\u001b[0m:\u001b[36mextract_side_navigation_links\u001b[0m:\u001b[36m133\u001b[0m - \u001b[1mDownloading https://mebroker.powerappsportals.com/policy-home1/ to policy/MEB/ME_Broker/policy-home1/home-lending-policy/who-can-guarantee-a-loan/when-we-need-a-guarantee.html\u001b[0m\n",
      "\u001b[32m2025-03-13 15:00:30.952\u001b[0m | \u001b[1mINFO    \u001b[0m | \u001b[36m__main__\u001b[0m:\u001b[36mextract_side_navigation_links\u001b[0m:\u001b[36m133\u001b[0m - \u001b[1mDownloading https://mebroker.powerappsportals.com/policy-home1/ to policy/MEB/ME_Broker/policy-home1/home-lending-policy/who-can-guarantee-a-loan/who-can-be-a-guarantor.html\u001b[0m\n",
      "\u001b[32m2025-03-13 15:00:32.176\u001b[0m | \u001b[1mINFO    \u001b[0m | \u001b[36m__main__\u001b[0m:\u001b[36mextract_side_navigation_links\u001b[0m:\u001b[36m133\u001b[0m - \u001b[1mDownloading https://mebroker.powerappsportals.com/policy-home1/ to policy/MEB/ME_Broker/policy-home1/home-lending-policy/what-they-can-borrow-for.html\u001b[0m\n"
     ]
    },
    {
     "name": "stdout",
     "output_type": "stream",
     "text": [
      "https://mebroker.powerappsportals.com/policy-home1/home-lending-policy/what-they-can-borrow-for/ no 'page-copy'\n"
     ]
    },
    {
     "name": "stderr",
     "output_type": "stream",
     "text": [
      "\u001b[32m2025-03-13 15:00:33.306\u001b[0m | \u001b[1mINFO    \u001b[0m | \u001b[36m__main__\u001b[0m:\u001b[36mextract_side_navigation_links\u001b[0m:\u001b[36m133\u001b[0m - \u001b[1mDownloading https://mebroker.powerappsportals.com/policy-home1/ to policy/MEB/ME_Broker/policy-home1/home-lending-policy/what-they-can-borrow-for/what-we-lend-for.html\u001b[0m\n",
      "\u001b[32m2025-03-13 15:00:34.375\u001b[0m | \u001b[1mINFO    \u001b[0m | \u001b[36m__main__\u001b[0m:\u001b[36mextract_side_navigation_links\u001b[0m:\u001b[36m133\u001b[0m - \u001b[1mDownloading https://mebroker.powerappsportals.com/policy-home1/ to policy/MEB/ME_Broker/policy-home1/home-lending-policy/what-they-can-borrow-for/what-we-dont-lend-for.html\u001b[0m\n",
      "\u001b[32m2025-03-13 15:00:35.311\u001b[0m | \u001b[1mINFO    \u001b[0m | \u001b[36m__main__\u001b[0m:\u001b[36mextract_side_navigation_links\u001b[0m:\u001b[36m133\u001b[0m - \u001b[1mDownloading https://mebroker.powerappsportals.com/policy-home1/ to policy/MEB/ME_Broker/policy-home1/home-lending-policy/how-much-they-can-borrow.html\u001b[0m\n",
      "\u001b[32m2025-03-13 15:00:36.305\u001b[0m | \u001b[1mINFO    \u001b[0m | \u001b[36m__main__\u001b[0m:\u001b[36mextract_side_navigation_links\u001b[0m:\u001b[36m133\u001b[0m - \u001b[1mDownloading https://mebroker.powerappsportals.com/policy-home1/ to policy/MEB/ME_Broker/policy-home1/home-lending-policy/how-much-they-can-borrow/income.html\u001b[0m\n",
      "\u001b[32m2025-03-13 15:00:37.359\u001b[0m | \u001b[1mINFO    \u001b[0m | \u001b[36m__main__\u001b[0m:\u001b[36mextract_side_navigation_links\u001b[0m:\u001b[36m133\u001b[0m - \u001b[1mDownloading https://mebroker.powerappsportals.com/policy-home1/ to policy/MEB/ME_Broker/policy-home1/home-lending-policy/how-much-they-can-borrow/serviceability.html\u001b[0m\n",
      "\u001b[32m2025-03-13 15:00:38.530\u001b[0m | \u001b[1mINFO    \u001b[0m | \u001b[36m__main__\u001b[0m:\u001b[36mextract_side_navigation_links\u001b[0m:\u001b[36m133\u001b[0m - \u001b[1mDownloading https://mebroker.powerappsportals.com/policy-home1/ to policy/MEB/ME_Broker/policy-home1/home-lending-policy/how-much-they-can-borrow/repayment-capacity.html\u001b[0m\n",
      "\u001b[32m2025-03-13 15:00:39.547\u001b[0m | \u001b[1mINFO    \u001b[0m | \u001b[36m__main__\u001b[0m:\u001b[36mextract_side_navigation_links\u001b[0m:\u001b[36m133\u001b[0m - \u001b[1mDownloading https://mebroker.powerappsportals.com/policy-home1/ to policy/MEB/ME_Broker/policy-home1/home-lending-policy/verifying-their-income.html\u001b[0m\n",
      "\u001b[32m2025-03-13 15:00:40.626\u001b[0m | \u001b[1mINFO    \u001b[0m | \u001b[36m__main__\u001b[0m:\u001b[36mextract_side_navigation_links\u001b[0m:\u001b[36m133\u001b[0m - \u001b[1mDownloading https://mebroker.powerappsportals.com/policy-home1/ to policy/MEB/ME_Broker/policy-home1/home-lending-policy/verifying-their-liabilities-and-credit-history.html\u001b[0m\n"
     ]
    },
    {
     "name": "stdout",
     "output_type": "stream",
     "text": [
      "https://mebroker.powerappsportals.com/policy-home1/home-lending-policy/verifying-their-liabilities-and-credit-history/ no 'page-copy'\n"
     ]
    },
    {
     "name": "stderr",
     "output_type": "stream",
     "text": [
      "\u001b[32m2025-03-13 15:00:41.706\u001b[0m | \u001b[1mINFO    \u001b[0m | \u001b[36m__main__\u001b[0m:\u001b[36mextract_side_navigation_links\u001b[0m:\u001b[36m133\u001b[0m - \u001b[1mDownloading https://mebroker.powerappsportals.com/policy-home1/ to policy/MEB/ME_Broker/policy-home1/home-lending-policy/verifying-their-liabilities-and-credit-history/estimated-minimum-living-expenses.html\u001b[0m\n",
      "\u001b[32m2025-03-13 15:00:42.780\u001b[0m | \u001b[1mINFO    \u001b[0m | \u001b[36m__main__\u001b[0m:\u001b[36mextract_side_navigation_links\u001b[0m:\u001b[36m133\u001b[0m - \u001b[1mDownloading https://mebroker.powerappsportals.com/policy-home1/ to policy/MEB/ME_Broker/policy-home1/home-lending-policy/verifying-their-liabilities-and-credit-history/evidence-of-expenses-other-commitments.html\u001b[0m\n",
      "\u001b[32m2025-03-13 15:00:43.958\u001b[0m | \u001b[1mINFO    \u001b[0m | \u001b[36m__main__\u001b[0m:\u001b[36mextract_side_navigation_links\u001b[0m:\u001b[36m133\u001b[0m - \u001b[1mDownloading https://mebroker.powerappsportals.com/policy-home1/ to policy/MEB/ME_Broker/policy-home1/home-lending-policy/verifying-their-liabilities-and-credit-history/rent-less-than-150.html\u001b[0m\n",
      "\u001b[32m2025-03-13 15:00:44.925\u001b[0m | \u001b[1mINFO    \u001b[0m | \u001b[36m__main__\u001b[0m:\u001b[36mextract_side_navigation_links\u001b[0m:\u001b[36m133\u001b[0m - \u001b[1mDownloading https://mebroker.powerappsportals.com/policy-home1/ to policy/MEB/ME_Broker/policy-home1/home-lending-policy/verifying-their-liabilities-and-credit-history/undisclosed-debts.html\u001b[0m\n",
      "\u001b[32m2025-03-13 15:00:45.924\u001b[0m | \u001b[1mINFO    \u001b[0m | \u001b[36m__main__\u001b[0m:\u001b[36mextract_side_navigation_links\u001b[0m:\u001b[36m133\u001b[0m - \u001b[1mDownloading https://mebroker.powerappsportals.com/policy-home1/ to policy/MEB/ME_Broker/policy-home1/home-lending-policy/verifying-their-liabilities-and-credit-history/account-conduct.html\u001b[0m\n",
      "\u001b[32m2025-03-13 15:00:47.031\u001b[0m | \u001b[1mINFO    \u001b[0m | \u001b[36m__main__\u001b[0m:\u001b[36mextract_side_navigation_links\u001b[0m:\u001b[36m133\u001b[0m - \u001b[1mDownloading https://mebroker.powerappsportals.com/policy-home1/ to policy/MEB/ME_Broker/policy-home1/home-lending-policy/verifying-their-liabilities-and-credit-history/verifying-their-credit-history.html\u001b[0m\n",
      "\u001b[32m2025-03-13 15:00:48.017\u001b[0m | \u001b[1mINFO    \u001b[0m | \u001b[36m__main__\u001b[0m:\u001b[36mextract_side_navigation_links\u001b[0m:\u001b[36m133\u001b[0m - \u001b[1mDownloading https://mebroker.powerappsportals.com/policy-home1/ to policy/MEB/ME_Broker/policy-home1/home-lending-policy/security.html\u001b[0m\n"
     ]
    },
    {
     "name": "stdout",
     "output_type": "stream",
     "text": [
      "https://mebroker.powerappsportals.com/policy-home1/home-lending-policy/security/ no 'page-copy'\n"
     ]
    },
    {
     "name": "stderr",
     "output_type": "stream",
     "text": [
      "\u001b[32m2025-03-13 15:00:49.099\u001b[0m | \u001b[1mINFO    \u001b[0m | \u001b[36m__main__\u001b[0m:\u001b[36mextract_side_navigation_links\u001b[0m:\u001b[36m133\u001b[0m - \u001b[1mDownloading https://mebroker.powerappsportals.com/policy-home1/ to policy/MEB/ME_Broker/policy-home1/home-lending-policy/security/what-we-do-and-dont-accept-as-security.html\u001b[0m\n",
      "\u001b[32m2025-03-13 15:00:50.048\u001b[0m | \u001b[1mINFO    \u001b[0m | \u001b[36m__main__\u001b[0m:\u001b[36mextract_side_navigation_links\u001b[0m:\u001b[36m133\u001b[0m - \u001b[1mDownloading https://mebroker.powerappsportals.com/policy-home1/ to policy/MEB/ME_Broker/policy-home1/home-lending-policy/security/property-valuations.html\u001b[0m\n",
      "\u001b[32m2025-03-13 15:00:51.086\u001b[0m | \u001b[1mINFO    \u001b[0m | \u001b[36m__main__\u001b[0m:\u001b[36mextract_side_navigation_links\u001b[0m:\u001b[36m133\u001b[0m - \u001b[1mDownloading https://mebroker.powerappsportals.com/policy-home1/ to policy/MEB/ME_Broker/policy-home1/home-lending-policy/security/when-we-need-full-valuation.html\u001b[0m\n",
      "\u001b[32m2025-03-13 15:00:52.123\u001b[0m | \u001b[1mINFO    \u001b[0m | \u001b[36m__main__\u001b[0m:\u001b[36mextract_side_navigation_links\u001b[0m:\u001b[36m133\u001b[0m - \u001b[1mDownloading https://mebroker.powerappsportals.com/policy-home1/ to policy/MEB/ME_Broker/policy-home1/home-lending-policy/security/valuation-options.html\u001b[0m\n",
      "\u001b[32m2025-03-13 15:00:53.512\u001b[0m | \u001b[1mINFO    \u001b[0m | \u001b[36m__main__\u001b[0m:\u001b[36mextract_side_navigation_links\u001b[0m:\u001b[36m133\u001b[0m - \u001b[1mDownloading https://mebroker.powerappsportals.com/policy-home1/ to policy/MEB/ME_Broker/policy-home1/home-lending-policy/security/checking-valuation-reports.html\u001b[0m\n",
      "\u001b[32m2025-03-13 15:00:54.903\u001b[0m | \u001b[1mINFO    \u001b[0m | \u001b[36m__main__\u001b[0m:\u001b[36mextract_side_navigation_links\u001b[0m:\u001b[36m133\u001b[0m - \u001b[1mDownloading https://mebroker.powerappsportals.com/policy-home1/ to policy/MEB/ME_Broker/policy-home1/home-lending-policy/security/8.6-insuring-the-security-property.html\u001b[0m\n",
      "\u001b[32m2025-03-13 15:00:55.935\u001b[0m | \u001b[1mINFO    \u001b[0m | \u001b[36m__main__\u001b[0m:\u001b[36mextract_side_navigation_links\u001b[0m:\u001b[36m133\u001b[0m - \u001b[1mDownloading https://mebroker.powerappsportals.com/policy-home1/ to policy/MEB/ME_Broker/policy-home1/home-lending-policy/lenders-mortgage-insurance.html\u001b[0m\n",
      "\u001b[32m2025-03-13 15:00:56.882\u001b[0m | \u001b[1mINFO    \u001b[0m | \u001b[36m__main__\u001b[0m:\u001b[36mextract_side_navigation_links\u001b[0m:\u001b[36m133\u001b[0m - \u001b[1mDownloading https://mebroker.powerappsportals.com/policy-home1/ to policy/MEB/ME_Broker/policy-home1/home-lending-policy/lenders-mortgage-insurance/arranging-lmi.html\u001b[0m\n",
      "\u001b[32m2025-03-13 15:00:57.896\u001b[0m | \u001b[1mINFO    \u001b[0m | \u001b[36m__main__\u001b[0m:\u001b[36mextract_side_navigation_links\u001b[0m:\u001b[36m133\u001b[0m - \u001b[1mDownloading https://mebroker.powerappsportals.com/policy-home1/ to policy/MEB/ME_Broker/policy-home1/home-lending-policy/loan-to-valuation-ratios-lvr.html\u001b[0m\n"
     ]
    },
    {
     "name": "stdout",
     "output_type": "stream",
     "text": [
      "https://mebroker.powerappsportals.com/policy-home1/home-lending-policy/loan-to-valuation-ratios-lvr/ no 'page-copy'\n"
     ]
    },
    {
     "name": "stderr",
     "output_type": "stream",
     "text": [
      "\u001b[32m2025-03-13 15:00:58.897\u001b[0m | \u001b[1mINFO    \u001b[0m | \u001b[36m__main__\u001b[0m:\u001b[36mextract_side_navigation_links\u001b[0m:\u001b[36m133\u001b[0m - \u001b[1mDownloading https://mebroker.powerappsportals.com/policy-home1/ to policy/MEB/ME_Broker/policy-home1/home-lending-policy/loan-to-valuation-ratios-lvr/maximum-lvrs.html\u001b[0m\n",
      "\u001b[32m2025-03-13 15:00:59.901\u001b[0m | \u001b[1mINFO    \u001b[0m | \u001b[36m__main__\u001b[0m:\u001b[36mextract_side_navigation_links\u001b[0m:\u001b[36m133\u001b[0m - \u001b[1mDownloading https://mebroker.powerappsportals.com/policy-home1/ to policy/MEB/ME_Broker/policy-home1/home-lending-policy/loan-to-valuation-ratios-lvr/lvr-exceptions.html\u001b[0m\n",
      "\u001b[32m2025-03-13 15:01:00.932\u001b[0m | \u001b[1mINFO    \u001b[0m | \u001b[36m__main__\u001b[0m:\u001b[36mextract_side_navigation_links\u001b[0m:\u001b[36m133\u001b[0m - \u001b[1mDownloading https://mebroker.powerappsportals.com/policy-home1/ to policy/MEB/ME_Broker/policy-home1/home-lending-policy/loan-to-valuation-ratios-lvr/genuine-savings.html\u001b[0m\n",
      "\u001b[32m2025-03-13 15:01:02.021\u001b[0m | \u001b[1mINFO    \u001b[0m | \u001b[36m__main__\u001b[0m:\u001b[36mextract_side_navigation_links\u001b[0m:\u001b[36m133\u001b[0m - \u001b[1mDownloading https://mebroker.powerappsportals.com/policy-home1/ to policy/MEB/ME_Broker/policy-home1/home-lending-policy/loan-to-valuation-ratios-lvr/first-home-buyer.html\u001b[0m\n",
      "\u001b[32m2025-03-13 15:01:03.285\u001b[0m | \u001b[1mINFO    \u001b[0m | \u001b[36m__main__\u001b[0m:\u001b[36mextract_side_navigation_links\u001b[0m:\u001b[36m133\u001b[0m - \u001b[1mDownloading https://mebroker.powerappsportals.com/policy-home1/ to policy/MEB/ME_Broker/policy-home1/home-lending-policy/loan-to-valuation-ratios-lvr/lvr-limits-for-equity-release-loans.html\u001b[0m\n",
      "\u001b[32m2025-03-13 15:01:04.315\u001b[0m | \u001b[1mINFO    \u001b[0m | \u001b[36m__main__\u001b[0m:\u001b[36mextract_side_navigation_links\u001b[0m:\u001b[36m133\u001b[0m - \u001b[1mDownloading https://mebroker.powerappsportals.com/policy-home1/ to policy/MEB/ME_Broker/policy-home1/home-lending-policy/loan-to-valuation-ratios-lvr/max-lvr-limits-by-loan-purpose.html\u001b[0m\n",
      "\u001b[32m2025-03-13 15:01:05.408\u001b[0m | \u001b[1mINFO    \u001b[0m | \u001b[36m__main__\u001b[0m:\u001b[36mextract_side_navigation_links\u001b[0m:\u001b[36m133\u001b[0m - \u001b[1mDownloading https://mebroker.powerappsportals.com/policy-home1/ to policy/MEB/ME_Broker/policy-home1/home-lending-policy/changes-switches-and-top-ups.html\u001b[0m\n"
     ]
    },
    {
     "name": "stdout",
     "output_type": "stream",
     "text": [
      "https://mebroker.powerappsportals.com/policy-home1/home-lending-policy/changes-switches-and-top-ups/ no 'page-copy'\n"
     ]
    },
    {
     "name": "stderr",
     "output_type": "stream",
     "text": [
      "\u001b[32m2025-03-13 15:01:06.529\u001b[0m | \u001b[1mINFO    \u001b[0m | \u001b[36m__main__\u001b[0m:\u001b[36mextract_side_navigation_links\u001b[0m:\u001b[36m133\u001b[0m - \u001b[1mDownloading https://mebroker.powerappsportals.com/policy-home1/ to policy/MEB/ME_Broker/policy-home1/home-lending-policy/changes-switches-and-top-ups/changes-and-switches.html\u001b[0m\n",
      "\u001b[32m2025-03-13 15:01:07.599\u001b[0m | \u001b[1mINFO    \u001b[0m | \u001b[36m__main__\u001b[0m:\u001b[36mextract_side_navigation_links\u001b[0m:\u001b[36m133\u001b[0m - \u001b[1mDownloading https://mebroker.powerappsportals.com/policy-home1/ to policy/MEB/ME_Broker/policy-home1/home-lending-policy/changes-switches-and-top-ups/top-ups.html\u001b[0m\n",
      "\u001b[32m2025-03-13 15:01:08.680\u001b[0m | \u001b[1mINFO    \u001b[0m | \u001b[36m__main__\u001b[0m:\u001b[36mextract_side_navigation_links\u001b[0m:\u001b[36m133\u001b[0m - \u001b[1mDownloading https://mebroker.powerappsportals.com/policy-home1/ to policy/MEB/ME_Broker/policy-home1/home-lending-policy/changes-switches-and-top-ups/partially-releasing-the-security.html\u001b[0m\n",
      "\u001b[32m2025-03-13 15:01:09.715\u001b[0m | \u001b[1mINFO    \u001b[0m | \u001b[36m__main__\u001b[0m:\u001b[36mextract_side_navigation_links\u001b[0m:\u001b[36m133\u001b[0m - \u001b[1mDownloading https://mebroker.powerappsportals.com/policy-home1/ to policy/MEB/ME_Broker/policy-home1/home-lending-policy/changes-switches-and-top-ups/substituting-security.html\u001b[0m\n",
      "\u001b[32m2025-03-13 15:01:10.679\u001b[0m | \u001b[1mINFO    \u001b[0m | \u001b[36m__main__\u001b[0m:\u001b[36mextract_side_navigation_links\u001b[0m:\u001b[36m133\u001b[0m - \u001b[1mDownloading https://mebroker.powerappsportals.com/policy-home1/ to policy/MEB/ME_Broker/policy-home1/home-lending-policy/changes-switches-and-top-ups/changes-top-ups.html\u001b[0m\n",
      "\u001b[32m2025-03-13 15:01:11.723\u001b[0m | \u001b[1mINFO    \u001b[0m | \u001b[36m__main__\u001b[0m:\u001b[36mextract_side_navigation_links\u001b[0m:\u001b[36m133\u001b[0m - \u001b[1mDownloading https://mebroker.powerappsportals.com/policy-home1/ to policy/MEB/ME_Broker/policy-home1/home-lending-policy/credit-contracts.html\u001b[0m\n"
     ]
    },
    {
     "name": "stdout",
     "output_type": "stream",
     "text": [
      "https://mebroker.powerappsportals.com/policy-home1/home-lending-policy/credit-contracts/ no 'page-copy'\n"
     ]
    },
    {
     "name": "stderr",
     "output_type": "stream",
     "text": [
      "\u001b[32m2025-03-13 15:01:12.735\u001b[0m | \u001b[1mINFO    \u001b[0m | \u001b[36m__main__\u001b[0m:\u001b[36mextract_side_navigation_links\u001b[0m:\u001b[36m133\u001b[0m - \u001b[1mDownloading https://mebroker.powerappsportals.com/policy-home1/ to policy/MEB/ME_Broker/policy-home1/home-lending-policy/credit-contracts/approval-in-principle.html\u001b[0m\n",
      "\u001b[32m2025-03-13 15:01:13.688\u001b[0m | \u001b[1mINFO    \u001b[0m | \u001b[36m__main__\u001b[0m:\u001b[36mextract_side_navigation_links\u001b[0m:\u001b[36m133\u001b[0m - \u001b[1mDownloading https://mebroker.powerappsportals.com/policy-home1/ to policy/MEB/ME_Broker/policy-home1/home-lending-policy/credit-contracts/letter-of-offer.html\u001b[0m\n",
      "\u001b[32m2025-03-13 15:01:14.695\u001b[0m | \u001b[1mINFO    \u001b[0m | \u001b[36m__main__\u001b[0m:\u001b[36mextract_side_navigation_links\u001b[0m:\u001b[36m133\u001b[0m - \u001b[1mDownloading https://mebroker.powerappsportals.com/policy-home1/ to policy/MEB/ME_Broker/policy-home1/home-lending-policy/appendix-1---income-shading.html\u001b[0m\n"
     ]
    },
    {
     "name": "stdout",
     "output_type": "stream",
     "text": [
      "https://mebroker.powerappsportals.com/policy-home1/home-lending-policy/appendix-1---income-shading/ no 'page-copy'\n"
     ]
    },
    {
     "name": "stderr",
     "output_type": "stream",
     "text": [
      "\u001b[32m2025-03-13 15:01:15.926\u001b[0m | \u001b[1mINFO    \u001b[0m | \u001b[36m__main__\u001b[0m:\u001b[36mextract_side_navigation_links\u001b[0m:\u001b[36m133\u001b[0m - \u001b[1mDownloading https://mebroker.powerappsportals.com/policy-home1/ to policy/MEB/ME_Broker/policy-home1/home-lending-policy/appendix-1---income-shading/payg.html\u001b[0m\n",
      "\u001b[32m2025-03-13 15:01:16.873\u001b[0m | \u001b[1mINFO    \u001b[0m | \u001b[36m__main__\u001b[0m:\u001b[36mextract_side_navigation_links\u001b[0m:\u001b[36m133\u001b[0m - \u001b[1mDownloading https://mebroker.powerappsportals.com/policy-home1/ to policy/MEB/ME_Broker/policy-home1/home-lending-policy/appendix-1---income-shading/self-employed.html\u001b[0m\n",
      "\u001b[32m2025-03-13 15:01:17.937\u001b[0m | \u001b[1mINFO    \u001b[0m | \u001b[36m__main__\u001b[0m:\u001b[36mextract_side_navigation_links\u001b[0m:\u001b[36m133\u001b[0m - \u001b[1mDownloading https://mebroker.powerappsportals.com/policy-home1/ to policy/MEB/ME_Broker/policy-home1/home-lending-policy/appendix-1---income-shading/rental-income.html\u001b[0m\n",
      "\u001b[32m2025-03-13 15:01:18.979\u001b[0m | \u001b[1mINFO    \u001b[0m | \u001b[36m__main__\u001b[0m:\u001b[36mextract_side_navigation_links\u001b[0m:\u001b[36m133\u001b[0m - \u001b[1mDownloading https://mebroker.powerappsportals.com/policy-home1/ to policy/MEB/ME_Broker/policy-home1/home-lending-policy/appendix-1---income-shading/other-income-types.html\u001b[0m\n",
      "\u001b[32m2025-03-13 15:01:20.051\u001b[0m | \u001b[1mINFO    \u001b[0m | \u001b[36m__main__\u001b[0m:\u001b[36mextract_side_navigation_links\u001b[0m:\u001b[36m133\u001b[0m - \u001b[1mDownloading https://mebroker.powerappsportals.com/policy-home1/ to policy/MEB/ME_Broker/policy-home1/home-lending-policy/appendix-2-lvr-levels.html\u001b[0m\n"
     ]
    },
    {
     "name": "stdout",
     "output_type": "stream",
     "text": [
      "https://mebroker.powerappsportals.com/policy-home1/home-lending-policy/appendix-2-lvr-levels/ no 'page-copy'\n"
     ]
    },
    {
     "name": "stderr",
     "output_type": "stream",
     "text": [
      "\u001b[32m2025-03-13 15:01:21.121\u001b[0m | \u001b[1mINFO    \u001b[0m | \u001b[36m__main__\u001b[0m:\u001b[36mextract_side_navigation_links\u001b[0m:\u001b[36m133\u001b[0m - \u001b[1mDownloading https://mebroker.powerappsportals.com/policy-home1/ to policy/MEB/ME_Broker/policy-home1/home-lending-policy/appendix-2-lvr-levels/maximum-lvrs-based-on-loan-purpose.html\u001b[0m\n",
      "\u001b[32m2025-03-13 15:01:22.163\u001b[0m | \u001b[1mINFO    \u001b[0m | \u001b[36m__main__\u001b[0m:\u001b[36mextract_side_navigation_links\u001b[0m:\u001b[36m133\u001b[0m - \u001b[1mDownloading https://mebroker.powerappsportals.com/policy-home1/ to policy/MEB/ME_Broker/policy-home1/home-lending-policy/appendix-2-lvr-levels/maximum-lvrs-based-on-security.html\u001b[0m\n",
      "\u001b[32m2025-03-13 15:01:23.199\u001b[0m | \u001b[1mINFO    \u001b[0m | \u001b[36m__main__\u001b[0m:\u001b[36mextract_side_navigation_links\u001b[0m:\u001b[36m133\u001b[0m - \u001b[1mDownloading https://mebroker.powerappsportals.com/policy-home1/ to policy/MEB/ME_Broker/policy-home1/home-lending-policy/appendix-3-security.html\u001b[0m\n",
      "\u001b[32m2025-03-13 15:01:24.262\u001b[0m | \u001b[1mINFO    \u001b[0m | \u001b[36m__main__\u001b[0m:\u001b[36mextract_side_navigation_links\u001b[0m:\u001b[36m133\u001b[0m - \u001b[1mDownloading https://mebroker.powerappsportals.com/policy-home1/ to policy/MEB/ME_Broker/policy-home1/home-lending-policy/glossary.html\u001b[0m\n",
      "\u001b[32m2025-03-13 15:01:25.653\u001b[0m | \u001b[1mINFO    \u001b[0m | \u001b[36m__main__\u001b[0m:\u001b[36mextract_side_navigation_links\u001b[0m:\u001b[36m133\u001b[0m - \u001b[1mDownloading https://mebroker.powerappsportals.com/policy-home1/ to policy/MEB/ME_Broker/policy-home1/verification-and-validation-procedures.html\u001b[0m\n"
     ]
    },
    {
     "name": "stdout",
     "output_type": "stream",
     "text": [
      "https://mebroker.powerappsportals.com/policy-home1/verification-and-validation-procedures/ no 'page-copy'\n"
     ]
    },
    {
     "name": "stderr",
     "output_type": "stream",
     "text": [
      "\u001b[32m2025-03-13 15:01:27.071\u001b[0m | \u001b[1mINFO    \u001b[0m | \u001b[36m__main__\u001b[0m:\u001b[36mextract_side_navigation_links\u001b[0m:\u001b[36m133\u001b[0m - \u001b[1mDownloading https://mebroker.powerappsportals.com/policy-home1/ to policy/MEB/ME_Broker/policy-home1/verification-and-validation-procedures/about-this-guide.html\u001b[0m\n"
     ]
    },
    {
     "name": "stdout",
     "output_type": "stream",
     "text": [
      "https://mebroker.powerappsportals.com/policy-home1/verification-and-validation-procedures/about-this-guide/ no 'page-copy'\n"
     ]
    },
    {
     "name": "stderr",
     "output_type": "stream",
     "text": [
      "\u001b[32m2025-03-13 15:01:28.066\u001b[0m | \u001b[1mINFO    \u001b[0m | \u001b[36m__main__\u001b[0m:\u001b[36mextract_side_navigation_links\u001b[0m:\u001b[36m133\u001b[0m - \u001b[1mDownloading https://mebroker.powerappsportals.com/policy-home1/ to policy/MEB/ME_Broker/policy-home1/verification-and-validation-procedures/about-this-guide/a.1.-what-are-we-validating.html\u001b[0m\n",
      "\u001b[32m2025-03-13 15:01:29.151\u001b[0m | \u001b[1mINFO    \u001b[0m | \u001b[36m__main__\u001b[0m:\u001b[36mextract_side_navigation_links\u001b[0m:\u001b[36m133\u001b[0m - \u001b[1mDownloading https://mebroker.powerappsportals.com/policy-home1/ to policy/MEB/ME_Broker/policy-home1/verification-and-validation-procedures/about-this-guide/a.2-general-rules.html\u001b[0m\n",
      "\u001b[32m2025-03-13 15:01:30.218\u001b[0m | \u001b[1mINFO    \u001b[0m | \u001b[36m__main__\u001b[0m:\u001b[36mextract_side_navigation_links\u001b[0m:\u001b[36m133\u001b[0m - \u001b[1mDownloading https://mebroker.powerappsportals.com/policy-home1/ to policy/MEB/ME_Broker/policy-home1/verification-and-validation-procedures/citizenship-residency-and-visas.html\u001b[0m\n"
     ]
    },
    {
     "name": "stdout",
     "output_type": "stream",
     "text": [
      "https://mebroker.powerappsportals.com/policy-home1/verification-and-validation-procedures/citizenship-residency-and-visas/ no 'page-copy'\n"
     ]
    },
    {
     "name": "stderr",
     "output_type": "stream",
     "text": [
      "\u001b[32m2025-03-13 15:01:31.311\u001b[0m | \u001b[1mINFO    \u001b[0m | \u001b[36m__main__\u001b[0m:\u001b[36mextract_side_navigation_links\u001b[0m:\u001b[36m133\u001b[0m - \u001b[1mDownloading https://mebroker.powerappsportals.com/policy-home1/ to policy/MEB/ME_Broker/policy-home1/verification-and-validation-procedures/citizenship-residency-and-visas/b.1.-validating-eligible-temporary-residents.html\u001b[0m\n",
      "\u001b[32m2025-03-13 15:01:32.285\u001b[0m | \u001b[1mINFO    \u001b[0m | \u001b[36m__main__\u001b[0m:\u001b[36mextract_side_navigation_links\u001b[0m:\u001b[36m133\u001b[0m - \u001b[1mDownloading https://mebroker.powerappsportals.com/policy-home1/ to policy/MEB/ME_Broker/policy-home1/verification-and-validation-procedures/citizenship-residency-and-visas/b.2.-acceptable-temporary-visa-types.html\u001b[0m\n",
      "\u001b[32m2025-03-13 15:01:33.335\u001b[0m | \u001b[1mINFO    \u001b[0m | \u001b[36m__main__\u001b[0m:\u001b[36mextract_side_navigation_links\u001b[0m:\u001b[36m133\u001b[0m - \u001b[1mDownloading https://mebroker.powerappsportals.com/policy-home1/ to policy/MEB/ME_Broker/policy-home1/verification-and-validation-procedures/payslip-and-account-statement-requirements.html\u001b[0m\n",
      "\u001b[32m2025-03-13 15:01:34.447\u001b[0m | \u001b[1mINFO    \u001b[0m | \u001b[36m__main__\u001b[0m:\u001b[36mextract_side_navigation_links\u001b[0m:\u001b[36m133\u001b[0m - \u001b[1mDownloading https://mebroker.powerappsportals.com/policy-home1/ to policy/MEB/ME_Broker/policy-home1/verification-and-validation-procedures/payslip-and-account-statement-requirements/payslips.html\u001b[0m\n",
      "\u001b[32m2025-03-13 15:01:35.422\u001b[0m | \u001b[1mINFO    \u001b[0m | \u001b[36m__main__\u001b[0m:\u001b[36mextract_side_navigation_links\u001b[0m:\u001b[36m133\u001b[0m - \u001b[1mDownloading https://mebroker.powerappsportals.com/policy-home1/ to policy/MEB/ME_Broker/policy-home1/verification-and-validation-procedures/payslip-and-account-statement-requirements/statements.html\u001b[0m\n",
      "\u001b[32m2025-03-13 15:01:36.445\u001b[0m | \u001b[1mINFO    \u001b[0m | \u001b[36m__main__\u001b[0m:\u001b[36mextract_side_navigation_links\u001b[0m:\u001b[36m133\u001b[0m - \u001b[1mDownloading https://mebroker.powerappsportals.com/policy-home1/ to policy/MEB/ME_Broker/policy-home1/verification-and-validation-procedures/payslip-and-account-statement-requirements/document-requirements-by-loan-purpose.html\u001b[0m\n",
      "\u001b[32m2025-03-13 15:01:37.600\u001b[0m | \u001b[1mINFO    \u001b[0m | \u001b[36m__main__\u001b[0m:\u001b[36mextract_side_navigation_links\u001b[0m:\u001b[36m133\u001b[0m - \u001b[1mDownloading https://mebroker.powerappsportals.com/policy-home1/ to policy/MEB/ME_Broker/policy-home1/verification-and-validation-procedures/verifying-income.html\u001b[0m\n",
      "\u001b[32m2025-03-13 15:01:38.725\u001b[0m | \u001b[1mINFO    \u001b[0m | \u001b[36m__main__\u001b[0m:\u001b[36mextract_side_navigation_links\u001b[0m:\u001b[36m133\u001b[0m - \u001b[1mDownloading https://mebroker.powerappsportals.com/policy-home1/ to policy/MEB/ME_Broker/policy-home1/verification-and-validation-procedures/verifying-income/payg.html\u001b[0m\n",
      "\u001b[32m2025-03-13 15:01:39.737\u001b[0m | \u001b[1mINFO    \u001b[0m | \u001b[36m__main__\u001b[0m:\u001b[36mextract_side_navigation_links\u001b[0m:\u001b[36m133\u001b[0m - \u001b[1mDownloading https://mebroker.powerappsportals.com/policy-home1/ to policy/MEB/ME_Broker/policy-home1/verification-and-validation-procedures/verifying-income/self-employed.html\u001b[0m\n",
      "\u001b[32m2025-03-13 15:01:40.763\u001b[0m | \u001b[1mINFO    \u001b[0m | \u001b[36m__main__\u001b[0m:\u001b[36mextract_side_navigation_links\u001b[0m:\u001b[36m133\u001b[0m - \u001b[1mDownloading https://mebroker.powerappsportals.com/policy-home1/ to policy/MEB/ME_Broker/policy-home1/verification-and-validation-procedures/verifying-income/rental-income.html\u001b[0m\n",
      "\u001b[32m2025-03-13 15:01:41.725\u001b[0m | \u001b[1mINFO    \u001b[0m | \u001b[36m__main__\u001b[0m:\u001b[36mextract_side_navigation_links\u001b[0m:\u001b[36m133\u001b[0m - \u001b[1mDownloading https://mebroker.powerappsportals.com/policy-home1/ to policy/MEB/ME_Broker/policy-home1/verification-and-validation-procedures/verifying-income/overseas-income.html\u001b[0m\n",
      "\u001b[32m2025-03-13 15:01:42.770\u001b[0m | \u001b[1mINFO    \u001b[0m | \u001b[36m__main__\u001b[0m:\u001b[36mextract_side_navigation_links\u001b[0m:\u001b[36m133\u001b[0m - \u001b[1mDownloading https://mebroker.powerappsportals.com/policy-home1/ to policy/MEB/ME_Broker/policy-home1/verification-and-validation-procedures/verifying-income/other-types-of-income.html\u001b[0m\n",
      "\u001b[32m2025-03-13 15:01:43.758\u001b[0m | \u001b[1mINFO    \u001b[0m | \u001b[36m__main__\u001b[0m:\u001b[36mextract_side_navigation_links\u001b[0m:\u001b[36m133\u001b[0m - \u001b[1mDownloading https://mebroker.powerappsportals.com/policy-home1/ to policy/MEB/ME_Broker/policy-home1/verification-and-validation-procedures/verifying-commitments.html\u001b[0m\n"
     ]
    },
    {
     "name": "stdout",
     "output_type": "stream",
     "text": [
      "https://mebroker.powerappsportals.com/policy-home1/verification-and-validation-procedures/verifying-commitments/ no 'page-copy'\n"
     ]
    },
    {
     "name": "stderr",
     "output_type": "stream",
     "text": [
      "\u001b[32m2025-03-13 15:01:44.778\u001b[0m | \u001b[1mINFO    \u001b[0m | \u001b[36m__main__\u001b[0m:\u001b[36mextract_side_navigation_links\u001b[0m:\u001b[36m133\u001b[0m - \u001b[1mDownloading https://mebroker.powerappsportals.com/policy-home1/ to policy/MEB/ME_Broker/policy-home1/verification-and-validation-procedures/verifying-commitments/living-expenses.html\u001b[0m\n",
      "\u001b[32m2025-03-13 15:01:45.825\u001b[0m | \u001b[1mINFO    \u001b[0m | \u001b[36m__main__\u001b[0m:\u001b[36mextract_side_navigation_links\u001b[0m:\u001b[36m133\u001b[0m - \u001b[1mDownloading https://mebroker.powerappsportals.com/policy-home1/ to policy/MEB/ME_Broker/policy-home1/verification-and-validation-procedures/verifying-commitments/other-debts.html\u001b[0m\n",
      "\u001b[32m2025-03-13 15:01:46.796\u001b[0m | \u001b[1mINFO    \u001b[0m | \u001b[36m__main__\u001b[0m:\u001b[36mextract_side_navigation_links\u001b[0m:\u001b[36m133\u001b[0m - \u001b[1mDownloading https://mebroker.powerappsportals.com/policy-home1/ to policy/MEB/ME_Broker/policy-home1/verification-and-validation-procedures/verifying-commitments/funds-to-complete.html\u001b[0m\n",
      "\u001b[32m2025-03-13 15:01:47.945\u001b[0m | \u001b[1mINFO    \u001b[0m | \u001b[36m__main__\u001b[0m:\u001b[36mextract_side_navigation_links\u001b[0m:\u001b[36m133\u001b[0m - \u001b[1mDownloading https://mebroker.powerappsportals.com/policy-home1/ to policy/MEB/ME_Broker/policy-home1/verification-and-validation-procedures/equity-release-cash-out.html\u001b[0m\n",
      "\u001b[32m2025-03-13 15:01:48.933\u001b[0m | \u001b[1mINFO    \u001b[0m | \u001b[36m__main__\u001b[0m:\u001b[36mextract_side_navigation_links\u001b[0m:\u001b[36m133\u001b[0m - \u001b[1mDownloading https://mebroker.powerappsportals.com/policy-home1/ to policy/MEB/ME_Broker/policy-home1/verification-and-validation-procedures/verifying-credit-reports.html\u001b[0m\n",
      "\u001b[32m2025-03-13 15:01:50.075\u001b[0m | \u001b[1mINFO    \u001b[0m | \u001b[36m__main__\u001b[0m:\u001b[36mextract_side_navigation_links\u001b[0m:\u001b[36m133\u001b[0m - \u001b[1mDownloading https://mebroker.powerappsportals.com/policy-home1/ to policy/MEB/ME_Broker/policy-home1/verification-and-validation-procedures/i.-building-insurance.html\u001b[0m\n"
     ]
    }
   ],
   "source": [
    "import os\n",
    "import requests\n",
    "from bs4 import BeautifulSoup\n",
    "import urllib.parse\n",
    "from loguru import logger\n",
    "\n",
    "def create_empty_html_document():\n",
    "    # Create a new BeautifulSoup object with a basic HTML structure\n",
    "    soup = BeautifulSoup('', 'html.parser')\n",
    "    \n",
    "    # Create the html tag\n",
    "    html_tag = soup.new_tag('html')\n",
    "    soup.append(html_tag)\n",
    "    \n",
    "    # Create the head tag\n",
    "    head_tag = soup.new_tag('head')\n",
    "    html_tag.append(head_tag)\n",
    "    \n",
    "    # Add basic elements to the head\n",
    "    # title_tag = soup.new_tag('title')\n",
    "    # title_tag.string = 'Document Title'\n",
    "    # head_tag.append(title_tag)\n",
    "    \n",
    "    # Add meta charset tag\n",
    "    meta_tag = soup.new_tag('meta')\n",
    "    meta_tag['charset'] = 'UTF-8'\n",
    "    head_tag.append(meta_tag)\n",
    "    \n",
    "    # Create the body tag\n",
    "    body_tag = soup.new_tag('body')\n",
    "    html_tag.append(body_tag)\n",
    "    \n",
    "    # Return the formatted HTML string\n",
    "    return soup\n",
    "\n",
    "\n",
    "def scrape_page_copy(heading, url, cookie):\n",
    "    \"\"\"\n",
    "    Scrapes the content of div with class 'page-copy' from the given URL.\n",
    "    \n",
    "    Args:\n",
    "        url (str): The URL of the webpage to scrape.\n",
    "        \n",
    "    Returns:\n",
    "        str: The HTML content inside the div with class 'page-copy'.\n",
    "             Returns None if the div is not found or if there's an error.\n",
    "    \"\"\"\n",
    "    try:\n",
    "        # Send HTTP request to the URL\n",
    "        \n",
    "        response = requests.get(url, \n",
    "                                headers={'User-Agent': 'Mozilla/5.0'},\n",
    "                                cookies={'Cookie': cookie})\n",
    "        response.raise_for_status()\n",
    "    except requests.exceptions.RequestException as e:\n",
    "        print(f\"Error fetching the URL: {e}\")\n",
    "        return None\n",
    "    except Exception as e:\n",
    "        print(f\"An error occurred: {e}\")\n",
    "        return None\n",
    "    \n",
    "    # Parse the HTML content\n",
    "    soup = BeautifulSoup(response.text, 'html.parser')\n",
    "    \n",
    "    # Find the div with class 'page-copy'\n",
    "    page_copy_div = soup.find('div', class_='page-copy')\n",
    "    \n",
    "    if not page_copy_div:\n",
    "        print(f\"{url} no 'page-copy'\")\n",
    "        return None\n",
    "\n",
    "   \n",
    "    # Create an empyt document and append the heading and \n",
    "    # the page-copy to the body \n",
    "    output_soup = create_empty_html_document()\n",
    "    body = output_soup.body\n",
    "    h2_tag = soup.new_tag('h2')\n",
    "    h2_tag.string = heading\n",
    "    body.append(h2_tag)\n",
    "    body.append(page_copy_div)\n",
    "\n",
    "    return output_soup\n",
    "\n",
    "\n",
    "def extract_side_navigation_links(url, cookie):\n",
    "    \"\"\"\n",
    "    Extract all links from a div with class 'side-navigation' on a webpage.\n",
    "    \n",
    "    Args:\n",
    "        url (str): The URL of the webpage to scrape\n",
    "        \n",
    "    Returns:\n",
    "        list: A list of dictionaries containing link text and href values\n",
    "    \"\"\"\n",
    "    # Send HTTP request to the URL\n",
    "    try:\n",
    "        response = requests.get(url, \n",
    "                                headers={'User-Agent': 'Mozilla/5.0'},\n",
    "                                cookies={'Cookie': cookie})\n",
    "        response.raise_for_status()  # Raise exception for HTTP errors\n",
    "    except requests.exceptions.RequestException as e:\n",
    "        print(f\"Error fetching the page: {e}\")\n",
    "        return []\n",
    "    \n",
    "    #find the list of pages in the side navigation\n",
    "    soup = BeautifulSoup(response.text, 'html.parser')\n",
    "    side_nav = soup.find('div', class_='side-navigation')\n",
    "    \n",
    "    if not side_nav:\n",
    "        print(\"side navigation links not found\")\n",
    "        return []\n",
    "    \n",
    "    links = side_nav.find_all('a')\n",
    "    \n",
    "    for link in links:\n",
    "        href = link.get('href')\n",
    "        heading = link.get_text(strip=True)\n",
    "        if href and not href.startswith(('http://', 'https://')):\n",
    "            href = urllib.parse.urljoin(\"https://mebroker.powerappsportals.com\", href)\n",
    "        \n",
    "        output_soup = scrape_page_copy(heading, href, cookie=cookie)\n",
    "        \n",
    "        path = urllib.parse.urlparse(href).path\n",
    "        if path[-1] == \"/\":\n",
    "            path = path[:-1]+\".html\"\n",
    "\n",
    "        directory = \"policy/MEB/ME_Broker\"\n",
    "        full_path =  directory + path\n",
    "        directory = os.path.dirname(full_path)        \n",
    "        if not os.path.exists(directory):\n",
    "            os.makedirs(directory) \n",
    "\n",
    "        logger.info(f\"Downloading {url} to {full_path}\")\n",
    "        with open(full_path, 'w', encoding='utf-8') as f:\n",
    "            f.write(str(output_soup))\n",
    "        \n",
    "\n",
    "links = extract_side_navigation_links(r\"https://mebroker.powerappsportals.com/policy-home1/\",\n",
    "    cookie = \"Dynamics365PortalAnalytics=HN_NBiH3HbiwAvgk3ncUuXRh2XUPwRj5iENmOGc3Q6c17nxCt2n4j0J4uMv3d-W9UzRpAL_cgwAmimVKy4F9zfYxGHmzP_oEeCMyFFpu13t_3EleBOZqNWSJAY1XRZNyGIFrTK2HhBGNWGdclZWTcw2; ARRAffinity=ae5dafc3502301c5972f13d1cd832204eb53fc43da4059b5dcd299d08fa97ae7; ARRAffinitySameSite=ae5dafc3502301c5972f13d1cd832204eb53fc43da4059b5dcd299d08fa97ae7; timezoneoffset=-480; isDSTSupport=false; isDSTObserved=false; ContextLanguageCode=en-US; ai_user=CmX+zhgE0lwAt+nsYL+VBY|2025-03-13T05:52:43.242Z; timeZoneCode=210; __RequestVerificationToken=2AJ0H3uTbQdP57mB-jMzxPgzjlsEzyUfYsjUNJxi9GxjUT08SxyogsqCvWz1MQ39EFvYV-81TemrH311-s-LKt9FKzkXBB2pbXex2LHSSHI1; OpenIdConnect.nonce.vx3x4IPCPBYmfpD%2BckIpCOVurQ6G67w%2Fw5BrqiWLP2E%3D=RHdEVjNiTnhkT0pUcUJfUFJzX3RZaDFySUtkX2dUaDFuRmhTZEZ5WEVKS3B4VjAxZFkwU2txR3g4Uk5JMmNQR2VDWVRZSHgwUEVpNkg0Y0FBcUtSVTkzdXc4MFhSRnhLdi1pNHJtbXpQZURYa0ZleWttR3NHYmlrVHJjRTdTV29wRXdvMVo1NUt3ak9EMlRrV18tVmthb1RKbl8wcndBZjZuR083SHhVak43Wmo2VjJydzl6QU1RYmRTWWJzWHhUVVZnS0pCaktJSUQwMWM3OGVkemNmd3l2dkhGaWF2Z0N4c2xwbXFUeWJJTQ%3D%3D; ai_session=qpxbqYvLJYkSzyvE0VTVDg|1741845163347|1741846476119; .AspNet.ApplicationCookie=JZxM41S2gKCsHTmun7PBOIJSRGqwtVWwen0zx78L4QERjpLB1S82E56s-fqX2e3ZkqO_gsvxpTOgnmP9BXUTYrzPuQJd2ei4YCwARc54Hq2087AffhE481vRqEqxItJhlPgrcrtRLKmvk5Gl-fF9-l60k8z4wD0495bG89a_kKo6KkmdA9a4Tc1HnqJYk0kS1aqvhfikVvu09hHvvuQtE7faI2XvMmVVlSxm_WRMYPY86J53SL_m9X4G-tV2qHlPbD-QmIyc0y7iO-foR9yWm3U5x9So1bJHfOktDgEnNmJn3koop2U4WWQD1Bwv-P64QAQd4_bfbKYh5Q-GRmgzt5xTYFVvBIYJUWRsncD4PFYe7nsBumTLk5oPDXsn0i99a8s3K_koQEu-fVwUf0L60rCMwEa6g8n_RNzK_gu_MiSVB8fVtqK76HgNgmx2IcZ0qvrrXyIX1dUVZ2f94o7njYYzsY2DKnsGZMrEGB_AP56_FIL8_4uHx-87hh9Wro7nQh3apUjMl3T0PH4CINpWMQ8WmQLfQhX6vRTd_Rp2A840UMM6-KtfDl6DfDV72NSVm3DaqMRuouvtGplJumGNxg\")\n",
    "links\n",
    "\n",
    "# html_text = scrape_page_copy(\n",
    "#     heading = \"1.6 Our obligations\",\n",
    "#     url = r\"https://mebroker.powerappsportals.com/policy-home1/home-lending-policy/about-this-policy/our-obligations/\",\n",
    "#     cookie = \"Dynamics365PortalAnalytics=HN_NBiH3HbiwAvgk3ncUuXRh2XUPwRj5iENmOGc3Q6c17nxCt2n4j0J4uMv3d-W9UzRpAL_cgwAmimVKy4F9zfYxGHmzP_oEeCMyFFpu13t_3EleBOZqNWSJAY1XRZNyGIFrTK2HhBGNWGdclZWTcw2; ARRAffinity=ae5dafc3502301c5972f13d1cd832204eb53fc43da4059b5dcd299d08fa97ae7; ARRAffinitySameSite=ae5dafc3502301c5972f13d1cd832204eb53fc43da4059b5dcd299d08fa97ae7; timezoneoffset=-480; isDSTSupport=false; isDSTObserved=false; ContextLanguageCode=en-US; ai_user=CmX+zhgE0lwAt+nsYL+VBY|2025-03-13T05:52:43.242Z; timeZoneCode=210; __RequestVerificationToken=2AJ0H3uTbQdP57mB-jMzxPgzjlsEzyUfYsjUNJxi9GxjUT08SxyogsqCvWz1MQ39EFvYV-81TemrH311-s-LKt9FKzkXBB2pbXex2LHSSHI1; OpenIdConnect.nonce.vx3x4IPCPBYmfpD%2BckIpCOVurQ6G67w%2Fw5BrqiWLP2E%3D=RHdEVjNiTnhkT0pUcUJfUFJzX3RZaDFySUtkX2dUaDFuRmhTZEZ5WEVKS3B4VjAxZFkwU2txR3g4Uk5JMmNQR2VDWVRZSHgwUEVpNkg0Y0FBcUtSVTkzdXc4MFhSRnhLdi1pNHJtbXpQZURYa0ZleWttR3NHYmlrVHJjRTdTV29wRXdvMVo1NUt3ak9EMlRrV18tVmthb1RKbl8wcndBZjZuR083SHhVak43Wmo2VjJydzl6QU1RYmRTWWJzWHhUVVZnS0pCaktJSUQwMWM3OGVkemNmd3l2dkhGaWF2Z0N4c2xwbXFUeWJJTQ%3D%3D; ai_session=qpxbqYvLJYkSzyvE0VTVDg|1741845163347|1741846476119; .AspNet.ApplicationCookie=JZxM41S2gKCsHTmun7PBOIJSRGqwtVWwen0zx78L4QERjpLB1S82E56s-fqX2e3ZkqO_gsvxpTOgnmP9BXUTYrzPuQJd2ei4YCwARc54Hq2087AffhE481vRqEqxItJhlPgrcrtRLKmvk5Gl-fF9-l60k8z4wD0495bG89a_kKo6KkmdA9a4Tc1HnqJYk0kS1aqvhfikVvu09hHvvuQtE7faI2XvMmVVlSxm_WRMYPY86J53SL_m9X4G-tV2qHlPbD-QmIyc0y7iO-foR9yWm3U5x9So1bJHfOktDgEnNmJn3koop2U4WWQD1Bwv-P64QAQd4_bfbKYh5Q-GRmgzt5xTYFVvBIYJUWRsncD4PFYe7nsBumTLk5oPDXsn0i99a8s3K_koQEu-fVwUf0L60rCMwEa6g8n_RNzK_gu_MiSVB8fVtqK76HgNgmx2IcZ0qvrrXyIX1dUVZ2f94o7njYYzsY2DKnsGZMrEGB_AP56_FIL8_4uHx-87hh9Wro7nQh3apUjMl3T0PH4CINpWMQ8WmQLfQhX6vRTd_Rp2A840UMM6-KtfDl6DfDV72NSVm3DaqMRuouvtGplJumGNxg\"\n",
    "# )\n",
    "\n",
    "# html_text"
   ]
  }
 ],
 "metadata": {
  "kernelspec": {
   "display_name": ".venv (3.11.2)",
   "language": "python",
   "name": "python3"
  },
  "language_info": {
   "codemirror_mode": {
    "name": "ipython",
    "version": 3
   },
   "file_extension": ".py",
   "mimetype": "text/x-python",
   "name": "python",
   "nbconvert_exporter": "python",
   "pygments_lexer": "ipython3",
   "version": "3.11.2"
  }
 },
 "nbformat": 4,
 "nbformat_minor": 2
}
